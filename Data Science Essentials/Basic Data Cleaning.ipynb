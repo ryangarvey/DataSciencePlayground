{
 "cells": [
  {
   "cell_type": "code",
   "execution_count": 1,
   "metadata": {
    "collapsed": true
   },
   "outputs": [],
   "source": [
    "import numpy as np\n",
    "import pandas as pd\n",
    "from pandas import DataFrame, Series"
   ]
  },
  {
   "cell_type": "code",
   "execution_count": 3,
   "outputs": [
    {
     "data": {
      "text/plain": "          0         1         2         3         4         5\n0  0.149788  0.466775  0.621831  0.640727  0.512428  0.494950\n1  0.069972  0.109399  0.314025  0.839162  0.180038  0.294814\n2  0.424771  0.192084  0.367325  0.675757  0.990773  0.933277\n3  0.357301  0.425118  0.150851  0.259746  0.578944  0.301580\n4  0.340758  0.955688  0.602627  0.198884  0.635171  0.961295\n5  0.334370  0.406469  0.897467  0.066790  0.269123  0.198093",
      "text/html": "<div>\n<style scoped>\n    .dataframe tbody tr th:only-of-type {\n        vertical-align: middle;\n    }\n\n    .dataframe tbody tr th {\n        vertical-align: top;\n    }\n\n    .dataframe thead th {\n        text-align: right;\n    }\n</style>\n<table border=\"1\" class=\"dataframe\">\n  <thead>\n    <tr style=\"text-align: right;\">\n      <th></th>\n      <th>0</th>\n      <th>1</th>\n      <th>2</th>\n      <th>3</th>\n      <th>4</th>\n      <th>5</th>\n    </tr>\n  </thead>\n  <tbody>\n    <tr>\n      <th>0</th>\n      <td>0.149788</td>\n      <td>0.466775</td>\n      <td>0.621831</td>\n      <td>0.640727</td>\n      <td>0.512428</td>\n      <td>0.494950</td>\n    </tr>\n    <tr>\n      <th>1</th>\n      <td>0.069972</td>\n      <td>0.109399</td>\n      <td>0.314025</td>\n      <td>0.839162</td>\n      <td>0.180038</td>\n      <td>0.294814</td>\n    </tr>\n    <tr>\n      <th>2</th>\n      <td>0.424771</td>\n      <td>0.192084</td>\n      <td>0.367325</td>\n      <td>0.675757</td>\n      <td>0.990773</td>\n      <td>0.933277</td>\n    </tr>\n    <tr>\n      <th>3</th>\n      <td>0.357301</td>\n      <td>0.425118</td>\n      <td>0.150851</td>\n      <td>0.259746</td>\n      <td>0.578944</td>\n      <td>0.301580</td>\n    </tr>\n    <tr>\n      <th>4</th>\n      <td>0.340758</td>\n      <td>0.955688</td>\n      <td>0.602627</td>\n      <td>0.198884</td>\n      <td>0.635171</td>\n      <td>0.961295</td>\n    </tr>\n    <tr>\n      <th>5</th>\n      <td>0.334370</td>\n      <td>0.406469</td>\n      <td>0.897467</td>\n      <td>0.066790</td>\n      <td>0.269123</td>\n      <td>0.198093</td>\n    </tr>\n  </tbody>\n</table>\n</div>"
     },
     "execution_count": 3,
     "metadata": {},
     "output_type": "execute_result"
    }
   ],
   "source": [
    "Data_object = DataFrame(np.random.rand(36).reshape(6,6))\n",
    "Data_object"
   ],
   "metadata": {
    "collapsed": false,
    "pycharm": {
     "name": "#%%\n"
    }
   }
  },
  {
   "cell_type": "code",
   "execution_count": 6,
   "outputs": [
    {
     "ename": "SyntaxError",
     "evalue": "invalid syntax (<ipython-input-6-f89aee7f17c2>, line 1)",
     "output_type": "error",
     "traceback": [
      "\u001B[1;36m  File \u001B[1;32m\"<ipython-input-6-f89aee7f17c2>\"\u001B[1;36m, line \u001B[1;32m1\u001B[0m\n\u001B[1;33m    Data_object.filter(items=[3:5], axis=1)\u001B[0m\n\u001B[1;37m                               ^\u001B[0m\n\u001B[1;31mSyntaxError\u001B[0m\u001B[1;31m:\u001B[0m invalid syntax\n"
     ]
    }
   ],
   "source": [
    "Data_object.filter(items=[3,5], axis=1)"
   ],
   "metadata": {
    "collapsed": false,
    "pycharm": {
     "name": "#%%\n"
    }
   }
  }
 ],
 "metadata": {
  "kernelspec": {
   "name": "python3",
   "language": "python",
   "display_name": "Python 3"
  },
  "language_info": {
   "codemirror_mode": {
    "name": "ipython",
    "version": 2
   },
   "file_extension": ".py",
   "mimetype": "text/x-python",
   "name": "python",
   "nbconvert_exporter": "python",
   "pygments_lexer": "ipython2",
   "version": "2.7.6"
  }
 },
 "nbformat": 4,
 "nbformat_minor": 0
}